{
 "cells": [
  {
   "cell_type": "markdown",
   "metadata": {},
   "source": [
    "# Verifying the Results of Compilation Flows\n",
    "\n",
    "## Quantum Circuit Compilation\n",
    "\n",
    "Initially, quantum algorithms are described in a way which is agnostic of the device they are planned to be executed on.\n",
    "However, physical devices today impose several constraints on the circuits to be executed:\n",
    "\n",
    "1. **Limited gate-set:** Typically, only a small set of gates is natively supported by devices, e.g., consisting of arbitrary single-qubit gates and the two-qubit CNOT operation.\n",
    "\n",
    "2. **Limited connectivity:** Devices frequently limit the pairs of qubits that operations may be applied to. This is usually described by a coupling graph, where the graph's nodes represent the qubits and an edge between two nodes indicates that a CNOT operation may be applied to those qubits.\n",
    "\n",
    "3. **Short coherence times and limited fidelity:** A device's physical qubits are inherently affected by noise. Until a certain threshold concerning the number of available qubits is reached, error correction is not yet an option.\n",
    "\n",
    "The first two, i.e., the limited gate-set and connectivity, constitute hard constraints---a computation not conforming to these restrictions may not be executed on the device. In contrast, the short coherence time and limited gate fidelity represent soft constraints---a quantum circuit may be executed on a device, but it is not guaranteed to produce meaningful results if the circuit, e.g., is too large for the state to stay coherent.\n",
    "\n",
    "Just as in classical computing, a conceptual algorithm needs to be compiled to the targeted architecture to address these constraints.\n",
    "Throughout the compilation process, the gates and the structure of the underlying circuit is changed considerably.\n",
    "The following figure exemplary illustrates the compilation of a 3-qubit circuit implementing the Grover search algorithm to the 5-qubit IBMQ London architecture.\n",
    "\n",
    "<img src=\"images/compilation_flow.png\" alt=\"Compilation of a quantum circuit\" width=\"100%\">\n",
    "\n",
    "It is of utmost importance that, after compilation, the resulting (compiled) circuit still implements the same functionality as the originally given circuit.\n",
    "This can be guaranteed by verifying the results of the compilation flow, i.e., checking the equivalence of the original circuit description with the compiled quantum circuit.\n",
    "\n",
    "## Using QCEC to Verify Compilation Flow Results\n",
    "\n",
    "First, construct your quantum circuit as usual."
   ]
  },
  {
   "cell_type": "code",
   "execution_count": null,
   "metadata": {},
   "outputs": [],
   "source": [
    "from qiskit import QuantumCircuit\n",
    "\n",
    "circ = QuantumCircuit(3)\n",
    "circ.x(2)\n",
    "circ.h(range(3))\n",
    "circ.ccx(0, 1, 2)\n",
    "circ.h(range(2))\n",
    "circ.x(range(2))\n",
    "circ.h(1)\n",
    "circ.cx(0, 1)\n",
    "circ.h(1)\n",
    "circ.x(range(2))\n",
    "circ.h(range(2))\n",
    "circ.measure_all()\n",
    "circ.draw(output=\"mpl\", style=\"iqp\")"
   ]
  },
  {
   "cell_type": "markdown",
   "metadata": {},
   "source": [
    "<div class=\"alert alert-info\">\n",
    "\n",
    "Note\n",
    "\n",
    "It is essential to include measurements at the end of the circuit, since the equivalence checker uses the measurements to determine the final location of the logical qubits in the compiled circuit.\n",
    "Failing to do so may result in incorrect results because the checker will then simply assume that the logical qubits are mapped to the physical qubits in the same order as they appear in the circuit.\n",
    "Make sure to insert measurements *before* the circuit is compiled to the target architecture.\n",
    "\n",
    "</div>\n",
    "\n",
    "\n",
    "Then, compile the circuit to the desired target architecture."
   ]
  },
  {
   "cell_type": "code",
   "execution_count": null,
   "metadata": {},
   "outputs": [],
   "source": [
    "from qiskit import transpile\n",
    "from qiskit.providers.fake_provider import Fake5QV1\n",
    "\n",
    "# compile circuit to 5-qubit Architecture\n",
    "optimization_level = 1\n",
    "circ_comp = transpile(circ, backend=Fake5QV1(), optimization_level=optimization_level)\n",
    "circ_comp.draw(output=\"mpl\", fold=-1, style=\"iqp\")"
   ]
  },
  {
   "cell_type": "markdown",
   "metadata": {},
   "source": [
    "Then, using QCEC to verify that the circuit has been compiled correctly is as easy as\n"
   ]
  },
  {
   "cell_type": "code",
   "execution_count": null,
   "metadata": {},
   "outputs": [],
   "source": [
    "from mqt import qcec\n",
    "\n",
    "qcec.verify_compilation(circ, circ_comp, optimization_level=optimization_level)"
   ]
  },
  {
   "cell_type": "markdown",
   "metadata": {},
   "source": [
    "Check out the [reference documentation](library/VerifyCompilation.rst#mqt.qcec.verify_compilation) for more information.\n"
   ]
  }
 ],
 "metadata": {
  "kernelspec": {
   "display_name": "Python 3",
   "language": "python",
   "name": "python3"
  },
  "language_info": {
   "codemirror_mode": {
    "name": "ipython",
    "version": 3
   },
   "file_extension": ".py",
   "mimetype": "text/x-python",
   "name": "python",
   "nbconvert_exporter": "python",
   "pygments_lexer": "ipython3"
  }
 },
 "nbformat": 4,
 "nbformat_minor": 0
}
